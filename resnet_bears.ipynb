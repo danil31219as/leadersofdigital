{
  "nbformat": 4,
  "nbformat_minor": 0,
  "metadata": {
    "colab": {
      "name": "resnet_bears.ipynb",
      "provenance": []
    },
    "kernelspec": {
      "name": "python3",
      "display_name": "Python 3"
    },
    "language_info": {
      "name": "python"
    },
    "accelerator": "GPU",
    "widgets": {
      "application/vnd.jupyter.widget-state+json": {
        "556ac37613344ae0aef36ce6c9b5dcc7": {
          "model_module": "@jupyter-widgets/controls",
          "model_name": "HBoxModel",
          "state": {
            "_view_name": "HBoxView",
            "_dom_classes": [],
            "_model_name": "HBoxModel",
            "_view_module": "@jupyter-widgets/controls",
            "_model_module_version": "1.5.0",
            "_view_count": null,
            "_view_module_version": "1.5.0",
            "box_style": "",
            "layout": "IPY_MODEL_40709216fd8a42719f5b057681989c2a",
            "_model_module": "@jupyter-widgets/controls",
            "children": [
              "IPY_MODEL_38320bde09fa4a36a8ea0576c8a21577",
              "IPY_MODEL_d4653271e68c448a8ea1c336d0a23cf6"
            ]
          }
        },
        "40709216fd8a42719f5b057681989c2a": {
          "model_module": "@jupyter-widgets/base",
          "model_name": "LayoutModel",
          "state": {
            "_view_name": "LayoutView",
            "grid_template_rows": null,
            "right": null,
            "justify_content": null,
            "_view_module": "@jupyter-widgets/base",
            "overflow": null,
            "_model_module_version": "1.2.0",
            "_view_count": null,
            "flex_flow": null,
            "width": null,
            "min_width": null,
            "border": null,
            "align_items": null,
            "bottom": null,
            "_model_module": "@jupyter-widgets/base",
            "top": null,
            "grid_column": null,
            "overflow_y": null,
            "overflow_x": null,
            "grid_auto_flow": null,
            "grid_area": null,
            "grid_template_columns": null,
            "flex": null,
            "_model_name": "LayoutModel",
            "justify_items": null,
            "grid_row": null,
            "max_height": null,
            "align_content": null,
            "visibility": null,
            "align_self": null,
            "height": null,
            "min_height": null,
            "padding": null,
            "grid_auto_rows": null,
            "grid_gap": null,
            "max_width": null,
            "order": null,
            "_view_module_version": "1.2.0",
            "grid_template_areas": null,
            "object_position": null,
            "object_fit": null,
            "grid_auto_columns": null,
            "margin": null,
            "display": null,
            "left": null
          }
        },
        "38320bde09fa4a36a8ea0576c8a21577": {
          "model_module": "@jupyter-widgets/controls",
          "model_name": "FloatProgressModel",
          "state": {
            "_view_name": "ProgressView",
            "style": "IPY_MODEL_e6e19c3d772249d0a9f0c066aa8aa8b0",
            "_dom_classes": [],
            "description": "100%",
            "_model_name": "FloatProgressModel",
            "bar_style": "success",
            "max": 46830571,
            "_view_module": "@jupyter-widgets/controls",
            "_model_module_version": "1.5.0",
            "value": 46830571,
            "_view_count": null,
            "_view_module_version": "1.5.0",
            "orientation": "horizontal",
            "min": 0,
            "description_tooltip": null,
            "_model_module": "@jupyter-widgets/controls",
            "layout": "IPY_MODEL_1561bb05c2b6473ca2201b7620d9158a"
          }
        },
        "d4653271e68c448a8ea1c336d0a23cf6": {
          "model_module": "@jupyter-widgets/controls",
          "model_name": "HTMLModel",
          "state": {
            "_view_name": "HTMLView",
            "style": "IPY_MODEL_8d85bca2d5de4af9acadf1e485a7f7ca",
            "_dom_classes": [],
            "description": "",
            "_model_name": "HTMLModel",
            "placeholder": "​",
            "_view_module": "@jupyter-widgets/controls",
            "_model_module_version": "1.5.0",
            "value": " 44.7M/44.7M [1:01:22&lt;00:00, 12.7kB/s]",
            "_view_count": null,
            "_view_module_version": "1.5.0",
            "description_tooltip": null,
            "_model_module": "@jupyter-widgets/controls",
            "layout": "IPY_MODEL_e27b8aa58fb74aec9061e657a7d5916c"
          }
        },
        "e6e19c3d772249d0a9f0c066aa8aa8b0": {
          "model_module": "@jupyter-widgets/controls",
          "model_name": "ProgressStyleModel",
          "state": {
            "_view_name": "StyleView",
            "_model_name": "ProgressStyleModel",
            "description_width": "initial",
            "_view_module": "@jupyter-widgets/base",
            "_model_module_version": "1.5.0",
            "_view_count": null,
            "_view_module_version": "1.2.0",
            "bar_color": null,
            "_model_module": "@jupyter-widgets/controls"
          }
        },
        "1561bb05c2b6473ca2201b7620d9158a": {
          "model_module": "@jupyter-widgets/base",
          "model_name": "LayoutModel",
          "state": {
            "_view_name": "LayoutView",
            "grid_template_rows": null,
            "right": null,
            "justify_content": null,
            "_view_module": "@jupyter-widgets/base",
            "overflow": null,
            "_model_module_version": "1.2.0",
            "_view_count": null,
            "flex_flow": null,
            "width": null,
            "min_width": null,
            "border": null,
            "align_items": null,
            "bottom": null,
            "_model_module": "@jupyter-widgets/base",
            "top": null,
            "grid_column": null,
            "overflow_y": null,
            "overflow_x": null,
            "grid_auto_flow": null,
            "grid_area": null,
            "grid_template_columns": null,
            "flex": null,
            "_model_name": "LayoutModel",
            "justify_items": null,
            "grid_row": null,
            "max_height": null,
            "align_content": null,
            "visibility": null,
            "align_self": null,
            "height": null,
            "min_height": null,
            "padding": null,
            "grid_auto_rows": null,
            "grid_gap": null,
            "max_width": null,
            "order": null,
            "_view_module_version": "1.2.0",
            "grid_template_areas": null,
            "object_position": null,
            "object_fit": null,
            "grid_auto_columns": null,
            "margin": null,
            "display": null,
            "left": null
          }
        },
        "8d85bca2d5de4af9acadf1e485a7f7ca": {
          "model_module": "@jupyter-widgets/controls",
          "model_name": "DescriptionStyleModel",
          "state": {
            "_view_name": "StyleView",
            "_model_name": "DescriptionStyleModel",
            "description_width": "",
            "_view_module": "@jupyter-widgets/base",
            "_model_module_version": "1.5.0",
            "_view_count": null,
            "_view_module_version": "1.2.0",
            "_model_module": "@jupyter-widgets/controls"
          }
        },
        "e27b8aa58fb74aec9061e657a7d5916c": {
          "model_module": "@jupyter-widgets/base",
          "model_name": "LayoutModel",
          "state": {
            "_view_name": "LayoutView",
            "grid_template_rows": null,
            "right": null,
            "justify_content": null,
            "_view_module": "@jupyter-widgets/base",
            "overflow": null,
            "_model_module_version": "1.2.0",
            "_view_count": null,
            "flex_flow": null,
            "width": null,
            "min_width": null,
            "border": null,
            "align_items": null,
            "bottom": null,
            "_model_module": "@jupyter-widgets/base",
            "top": null,
            "grid_column": null,
            "overflow_y": null,
            "overflow_x": null,
            "grid_auto_flow": null,
            "grid_area": null,
            "grid_template_columns": null,
            "flex": null,
            "_model_name": "LayoutModel",
            "justify_items": null,
            "grid_row": null,
            "max_height": null,
            "align_content": null,
            "visibility": null,
            "align_self": null,
            "height": null,
            "min_height": null,
            "padding": null,
            "grid_auto_rows": null,
            "grid_gap": null,
            "max_width": null,
            "order": null,
            "_view_module_version": "1.2.0",
            "grid_template_areas": null,
            "object_position": null,
            "object_fit": null,
            "grid_auto_columns": null,
            "margin": null,
            "display": null,
            "left": null
          }
        }
      }
    }
  },
  "cells": [
    {
      "cell_type": "code",
      "metadata": {
        "colab": {
          "base_uri": "https://localhost:8080/"
        },
        "id": "lVeo2mpUm_cM",
        "outputId": "df5ec91c-8750-40b9-9e29-4e5e88efc192"
      },
      "source": [
        "from google.colab import drive\n",
        "drive.mount('/content/drive')"
      ],
      "execution_count": null,
      "outputs": [
        {
          "output_type": "stream",
          "text": [
            "Mounted at /content/drive\n"
          ],
          "name": "stdout"
        }
      ]
    },
    {
      "cell_type": "code",
      "metadata": {
        "colab": {
          "base_uri": "https://localhost:8080/",
          "height": 35
        },
        "id": "hkyeQNW_nJqd",
        "outputId": "513dd94c-25a7-4e30-8960-ffbccf4281ee"
      },
      "source": [
        "import shutil\n",
        "shutil.copytree('drive/MyDrive/reformatted_data', '/content/data')"
      ],
      "execution_count": null,
      "outputs": [
        {
          "output_type": "execute_result",
          "data": {
            "application/vnd.google.colaboratory.intrinsic+json": {
              "type": "string"
            },
            "text/plain": [
              "'/content/data'"
            ]
          },
          "metadata": {
            "tags": []
          },
          "execution_count": 2
        }
      ]
    },
    {
      "cell_type": "code",
      "metadata": {
        "id": "u9Reug0R0IWg"
      },
      "source": [
        "import os\n",
        "import cv2\n",
        "import xml.etree.ElementTree as pars\n",
        "def area_of_intersection(coords1, coords2):\n",
        "    \"\"\" Посчитаем площадь пересечения \"\"\"\n",
        "\n",
        "    x1, y1, x2, y2 = coords1\n",
        "    x3, y3, x4, y4 = coords2\n",
        "\n",
        "    # границы области пересечения\n",
        "    left = max(x1, x3)  # левая\n",
        "    bottom = max(y1, y3)  # нижняя\n",
        "    right = min(x2, x4)  # правая\n",
        "    top = min(y2, y4)  # верхняя\n",
        "\n",
        "    width = right - left\n",
        "    height = top - bottom\n",
        "\n",
        "    if width <= 0 or height <= 0:\n",
        "        area = 0\n",
        "    else:\n",
        "        area = width * height\n",
        "    return area\n",
        "\n",
        "\n",
        "def load_images_from_folder(folder):\n",
        "    \"\"\" Загрузка названий(без расширения) и картинок cv в список\"\"\"\n",
        "\n",
        "    im_list = []\n",
        "    for filename in os.listdir(folder + \"/images/\"):\n",
        "        img = cv2.imread(os.path.join(folder + \"/images/\" + filename))\n",
        "        full_name = filename.split('.')\n",
        "        part_name = full_name[0]\n",
        "        if not img is None:\n",
        "            im_list.append((part_name, img))\n",
        "    return im_list\n",
        "\n",
        "def load_objects(im_list, folder):\n",
        "    \"\"\" Получаем список из: картинки, имени, объектов на них \"\"\"\n",
        "    object_list = []\n",
        "    for pic in im_list:\n",
        "        part_name = pic[0]\n",
        "        img = pic[1]\n",
        "        e = pars.parse(folder + '/annotations/' + part_name + '.xml')\n",
        "        root = e.getroot()\n",
        "        objects = []\n",
        "        for object in root.findall('object'):\n",
        "            name = object.find('name').text\n",
        "            for box in object.findall('bndbox'):\n",
        "                points = [int(box.find('xmin').text),\n",
        "                                   int(box.find('ymin').text),\n",
        "                                   int(box.find('xmax').text),\n",
        "                                   int(box.find('ymax').text)]\n",
        "            objects.append(points)\n",
        "        object_list.append([img, part_name, objects])\n",
        "\n",
        "    return object_list\n",
        "\n",
        "\n",
        "\n",
        "def load_data():\n",
        "    \"\"\" Кратенько загружаем \"\"\"\n",
        "\n",
        "    try:\n",
        "        image_dir_test = 'data'\n",
        "        test_image_list = load_images_from_folder(image_dir_test)\n",
        "        test_object_list = load_objects(test_image_list, image_dir_test)\n",
        "    except Exception as e:\n",
        "      print(e)\n",
        "      test_object_list = []\n",
        "    return test_object_list"
      ],
      "execution_count": null,
      "outputs": []
    },
    {
      "cell_type": "code",
      "metadata": {
        "id": "joAtSZ-uqMRl"
      },
      "source": [
        "result = load_data()"
      ],
      "execution_count": null,
      "outputs": []
    },
    {
      "cell_type": "code",
      "metadata": {
        "id": "gn0yOOT3qOmr"
      },
      "source": [
        "import pandas as pd\n",
        "df_data = []\n",
        "for elem in result:\n",
        "  if elem[2]:\n",
        "    df_data.append((elem[1] + '.JPG', 1))\n",
        "  else:\n",
        "    df_data.append((elem[1] + '.JPG', 0))\n",
        "df = pd.DataFrame(df_data, columns=['path', 'label'])"
      ],
      "execution_count": null,
      "outputs": []
    },
    {
      "cell_type": "code",
      "metadata": {
        "id": "Catq4inhqx-0"
      },
      "source": [
        "from sklearn.model_selection import train_test_split\n",
        "train_data, val_data = train_test_split(df, test_size=0.2)"
      ],
      "execution_count": null,
      "outputs": []
    },
    {
      "cell_type": "code",
      "metadata": {
        "colab": {
          "base_uri": "https://localhost:8080/"
        },
        "id": "VpTSkVBBqyPt",
        "outputId": "7402301e-e672-4c28-8303-f037383c266d"
      },
      "source": [
        "train_data.label.sum()"
      ],
      "execution_count": null,
      "outputs": [
        {
          "output_type": "execute_result",
          "data": {
            "text/plain": [
              "538"
            ]
          },
          "metadata": {
            "tags": []
          },
          "execution_count": 22
        }
      ]
    },
    {
      "cell_type": "code",
      "metadata": {
        "id": "0l2tOo8ErXpT"
      },
      "source": [
        "import os\n",
        "os.mkdir('train')\n",
        "os.mkdir('val')\n",
        "os.mkdir('train/0')\n",
        "os.mkdir('train/1')\n",
        "os.mkdir('val/0')\n",
        "os.mkdir('val/1')"
      ],
      "execution_count": null,
      "outputs": []
    },
    {
      "cell_type": "code",
      "metadata": {
        "id": "Jj--3wySrqxI"
      },
      "source": [
        "for path, label in zip(train_data['path'], train_data['label']):\n",
        "  shutil.copyfile(f'data/images/{path}', f'train/{label}/{path}')\n",
        "for path, label in zip(val_data['path'], val_data['label']):\n",
        "  shutil.copyfile(f'data/images/{path}', f'val/{label}/{path}')"
      ],
      "execution_count": null,
      "outputs": []
    },
    {
      "cell_type": "code",
      "metadata": {
        "id": "rcHeRmbIsFKa"
      },
      "source": [
        "from __future__ import print_function, division\n",
        "\n",
        "import torch\n",
        "import torch.nn as nn\n",
        "import torch.optim as optim\n",
        "from torch.optim import lr_scheduler\n",
        "import numpy as np\n",
        "import torchvision\n",
        "from torchvision import datasets, models, transforms\n",
        "import matplotlib.pyplot as plt\n",
        "import time\n",
        "import os\n",
        "import copy\n",
        "\n",
        "plt.ion()   # interactive mode"
      ],
      "execution_count": null,
      "outputs": []
    },
    {
      "cell_type": "code",
      "metadata": {
        "colab": {
          "base_uri": "https://localhost:8080/"
        },
        "id": "FsWjujcqsPzx",
        "outputId": "698381c8-2b2d-4f0d-8ce8-4cdbcde3691e"
      },
      "source": [
        "data_transforms = {\n",
        "    'train': transforms.Compose([\n",
        "        transforms.RandomResizedCrop(224),\n",
        "        transforms.ToTensor(),\n",
        "        transforms.Normalize([0.485, 0.456, 0.406], [0.229, 0.224, 0.225])\n",
        "    ]),\n",
        "    'val': transforms.Compose([\n",
        "        transforms.Resize(300),\n",
        "        transforms.CenterCrop(224),\n",
        "        transforms.ToTensor(),\n",
        "        transforms.Normalize([0.485, 0.456, 0.406], [0.229, 0.224, 0.225])\n",
        "    ]),\n",
        "}\n",
        "\n",
        "data_dir = ''\n",
        "image_datasets = {x: datasets.ImageFolder(os.path.join(data_dir, x),\n",
        "                                          data_transforms[x])\n",
        "                  for x in ['train', 'val']}\n",
        "dataloaders = {x: torch.utils.data.DataLoader(image_datasets[x], batch_size=4,\n",
        "                                             shuffle=True, num_workers=4)\n",
        "              for x in ['train', 'val']}\n",
        "dataset_sizes = {x: len(image_datasets[x]) for x in ['train', 'val']}\n",
        "class_names = image_datasets['train'].classes\n",
        "\n",
        "device = torch.device(\"cuda:0\" if torch.cuda.is_available() else \"cpu\")"
      ],
      "execution_count": null,
      "outputs": [
        {
          "output_type": "stream",
          "text": [
            "/usr/local/lib/python3.7/dist-packages/torch/utils/data/dataloader.py:481: UserWarning: This DataLoader will create 4 worker processes in total. Our suggested max number of worker in current system is 2, which is smaller than what this DataLoader is going to create. Please be aware that excessive worker creation might get DataLoader running slow or even freeze, lower the worker number to avoid potential slowness/freeze if necessary.\n",
            "  cpuset_checked))\n"
          ],
          "name": "stderr"
        }
      ]
    },
    {
      "cell_type": "code",
      "metadata": {
        "colab": {
          "base_uri": "https://localhost:8080/",
          "height": 287
        },
        "id": "qnraB2XRsfTY",
        "outputId": "cd289636-baf1-46d5-b3e9-a9804f4fd922"
      },
      "source": [
        "def imshow(inp, title=None):\n",
        "    \"\"\"Imshow for Tensor.\"\"\"\n",
        "    inp = inp.numpy().transpose((1, 2, 0))\n",
        "    mean = np.array([0.485, 0.456, 0.406])\n",
        "    std = np.array([0.229, 0.224, 0.225])\n",
        "    inp = std * inp + mean\n",
        "    inp = np.clip(inp, 0, 1)\n",
        "    plt.imshow(inp)\n",
        "    if title is not None:\n",
        "        plt.title(title)\n",
        "    plt.pause(0.001)  # pause a bit so that plots are updated\n",
        "\n",
        "\n",
        "# Get a batch of training data\n",
        "inputs, classes = next(iter(dataloaders['train']))\n",
        "\n",
        "# Make a grid from batch\n",
        "out = torchvision.utils.make_grid(inputs)\n",
        "\n",
        "imshow(out, title=[class_names[x] for x in classes])"
      ],
      "execution_count": null,
      "outputs": [
        {
          "output_type": "stream",
          "text": [
            "/usr/local/lib/python3.7/dist-packages/torch/utils/data/dataloader.py:481: UserWarning: This DataLoader will create 4 worker processes in total. Our suggested max number of worker in current system is 2, which is smaller than what this DataLoader is going to create. Please be aware that excessive worker creation might get DataLoader running slow or even freeze, lower the worker number to avoid potential slowness/freeze if necessary.\n",
            "  cpuset_checked))\n"
          ],
          "name": "stderr"
        },
        {
          "output_type": "display_data",
          "data": {
            "image/png": "[encoded data removed]",
            "text/plain": [
              "<Figure size 432x288 with 1 Axes>"
            ]
          },
          "metadata": {
            "tags": [],
            "needs_background": "light"
          }
        }
      ]
    },
    {
      "cell_type": "code",
      "metadata": {
        "id": "mpjugbAkshL-"
      },
      "source": [
        "def train_model(model, criterion, optimizer, scheduler, num_epochs=25):\n",
        "    since = time.time()\n",
        "    best_model_wts = copy.deepcopy(model.state_dict())\n",
        "    best_acc = 0.0\n",
        "    stat = {'losses': {'train': [], 'val': []},\n",
        "              'accuracies': {'train': [], 'val': []}}\n",
        "    predicted = []\n",
        "    trues = []\n",
        "    for epoch in range(num_epochs):\n",
        "        print('Epoch {}/{}'.format(epoch, num_epochs - 1))\n",
        "        print('-' * 10)\n",
        "        for phase in ['train', 'val']:\n",
        "            if phase == 'train':\n",
        "                model.train() \n",
        "            else:\n",
        "                model.eval()\n",
        "\n",
        "            running_loss = 0.0\n",
        "            running_corrects = 0\n",
        "            for inputs, labels in dataloaders[phase]:\n",
        "                inputs = inputs.to(device)\n",
        "                labels = labels.to(device)\n",
        "                optimizer.zero_grad()\n",
        "                with torch.set_grad_enabled(phase == 'train'):\n",
        "                    outputs = model(inputs)\n",
        "                    _, preds = torch.max(outputs, 1)\n",
        "                    loss = criterion(outputs, labels)\n",
        "                    if phase == 'train':\n",
        "                        loss.backward()\n",
        "                        optimizer.step()\n",
        "                running_loss += loss.item() * inputs.size(0)\n",
        "                running_corrects += torch.sum(preds == labels.data)\n",
        "                if epoch == num_epochs - 1:\n",
        "                    predicted.extend(list(preds))\n",
        "                    trues.extend(list(labels.data))\n",
        "            if phase == 'train':\n",
        "                scheduler.step()\n",
        "            epoch_loss = running_loss / dataset_sizes[phase]\n",
        "            epoch_acc = running_corrects.double() / dataset_sizes[phase]\n",
        "            stat['losses'][phase].append(epoch_loss)\n",
        "            stat['accuracies'][phase].append(epoch_acc)\n",
        "            print('{} Loss: {:.4f} Acc: {:.4f}'.format(\n",
        "                phase, epoch_loss, epoch_acc))\n",
        "            if phase == 'val' and epoch_acc > best_acc:\n",
        "                best_acc = epoch_acc\n",
        "                best_model_wts = copy.deepcopy(model.state_dict())\n",
        "        print()\n",
        "    time_elapsed = time.time() - since\n",
        "    print('Training complete in {:.0f}m {:.0f}s'.format(\n",
        "        time_elapsed // 60, time_elapsed % 60))\n",
        "    print('Best val Acc: {:4f}'.format(best_acc))\n",
        "\n",
        "    # load best model weights\n",
        "    model.load_state_dict(best_model_wts)\n",
        "    return model, stat, trues, predicted"
      ],
      "execution_count": null,
      "outputs": []
    },
    {
      "cell_type": "code",
      "metadata": {
        "id": "SPfsAZXitfix"
      },
      "source": [
        "def visualize_model(model, num_images=6):\n",
        "    was_training = model.training\n",
        "    model.eval()\n",
        "    images_so_far = 0\n",
        "    fig = plt.figure()\n",
        "\n",
        "    with torch.no_grad():\n",
        "        for i, (inputs, labels) in enumerate(dataloaders['val']):\n",
        "            inputs = inputs.to(device)\n",
        "            labels = labels.to(device)\n",
        "\n",
        "            outputs = model(inputs)\n",
        "            _, preds = torch.max(outputs, 1)\n",
        "\n",
        "            for j in range(inputs.size()[0]):\n",
        "                images_so_far += 1\n",
        "                ax = plt.subplot(num_images//2, 2, images_so_far)\n",
        "                ax.axis('off')\n",
        "                ax.set_title('predicted: {}'.format(class_names[preds[j]]))\n",
        "                imshow(inputs.cpu().data[j])\n",
        "\n",
        "                if images_so_far == num_images:\n",
        "                    model.train(mode=was_training)\n",
        "                    return\n",
        "        model.train(mode=was_training)"
      ],
      "execution_count": null,
      "outputs": []
    },
    {
      "cell_type": "code",
      "metadata": {
        "colab": {
          "base_uri": "https://localhost:8080/",
          "height": 104,
          "referenced_widgets": [
            "556ac37613344ae0aef36ce6c9b5dcc7",
            "40709216fd8a42719f5b057681989c2a",
            "38320bde09fa4a36a8ea0576c8a21577",
            "d4653271e68c448a8ea1c336d0a23cf6",
            "e6e19c3d772249d0a9f0c066aa8aa8b0",
            "1561bb05c2b6473ca2201b7620d9158a",
            "8d85bca2d5de4af9acadf1e485a7f7ca",
            "e27b8aa58fb74aec9061e657a7d5916c"
          ]
        },
        "id": "iayA4Cqftjry",
        "outputId": "c71e68de-b302-421c-f399-edc3657424bc"
      },
      "source": [
        "model_ft = models.resnet18(pretrained=True)\n",
        "num_ftrs = model_ft.fc.in_features\n",
        "# Here the size of each output sample is set to 2.\n",
        "# Alternatively, it can be generalized to nn.Linear(num_ftrs, len(class_names)).\n",
        "model_ft.fc = nn.Linear(num_ftrs, 2)\n",
        "\n",
        "model_ft = model_ft.to(device)\n",
        "\n",
        "criterion = nn.CrossEntropyLoss()\n",
        "\n",
        "# Observe that all parameters are being optimized\n",
        "optimizer_ft = optim.SGD(model_ft.parameters(), lr=0.001, momentum=0.9)\n",
        "\n",
        "# Decay LR by a factor of 0.1 every 7 epochs\n",
        "exp_lr_scheduler = lr_scheduler.StepLR(optimizer_ft, step_size=7, gamma=0.1)"
      ],
      "execution_count": null,
      "outputs": [
        {
          "output_type": "stream",
          "text": [
            "Downloading: \"https://download.pytorch.org/models/resnet18-f37072fd.pth\" to /root/.cache/torch/hub/checkpoints/resnet18-f37072fd.pth\n"
          ],
          "name": "stderr"
        },
        {
          "output_type": "display_data",
          "data": {
            "application/vnd.jupyter.widget-view+json": {
              "model_id": "556ac37613344ae0aef36ce6c9b5dcc7",
              "version_minor": 0,
              "version_major": 2
            },
            "text/plain": [
              "HBox(children=(FloatProgress(value=0.0, max=46830571.0), HTML(value='')))"
            ]
          },
          "metadata": {
            "tags": []
          }
        },
        {
          "output_type": "stream",
          "text": [
            "\n"
          ],
          "name": "stdout"
        }
      ]
    },
    {
      "cell_type": "code",
      "metadata": {
        "colab": {
          "base_uri": "https://localhost:8080/"
        },
        "id": "7BJ8nKdetrlW",
        "outputId": "d28c15b8-499d-40a8-bcb2-eb6e38d747c7"
      },
      "source": [
        "model_ft, stat, y_true, y_pred = train_model(model_ft, criterion, optimizer_ft, exp_lr_scheduler,\n",
        "                       num_epochs=25)"
      ],
      "execution_count": null,
      "outputs": [
        {
          "output_type": "stream",
          "text": [
            "Epoch 0/24\n",
            "----------\n"
          ],
          "name": "stdout"
        },
        {
          "output_type": "stream",
          "text": [
            "/usr/local/lib/python3.7/dist-packages/torch/utils/data/dataloader.py:481: UserWarning: This DataLoader will create 4 worker processes in total. Our suggested max number of worker in current system is 2, which is smaller than what this DataLoader is going to create. Please be aware that excessive worker creation might get DataLoader running slow or even freeze, lower the worker number to avoid potential slowness/freeze if necessary.\n",
            "  cpuset_checked))\n",
            "/usr/local/lib/python3.7/dist-packages/torch/nn/functional.py:718: UserWarning: Named tensors and all their associated APIs are an experimental feature and subject to change. Please do not use them for anything important until they are released as stable. (Triggered internally at  /pytorch/c10/core/TensorImpl.h:1156.)\n",
            "  return torch.max_pool2d(input, kernel_size, stride, padding, dilation, ceil_mode)\n"
          ],
          "name": "stderr"
        },
        {
          "output_type": "stream",
          "text": [
            "train Loss: 0.5455 Acc: 0.7263\n",
            "val Loss: 0.3641 Acc: 0.8750\n",
            "\n",
            "Epoch 1/24\n",
            "----------\n",
            "train Loss: 0.4313 Acc: 0.8153\n",
            "val Loss: 0.2824 Acc: 0.8939\n",
            "\n",
            "Epoch 2/24\n",
            "----------\n",
            "train Loss: 0.3754 Acc: 0.8381\n",
            "val Loss: 0.1749 Acc: 0.9356\n",
            "\n",
            "Epoch 3/24\n",
            "----------\n",
            "train Loss: 0.3374 Acc: 0.8589\n",
            "val Loss: 0.1789 Acc: 0.9394\n",
            "\n",
            "Epoch 4/24\n",
            "----------\n",
            "train Loss: 0.2970 Acc: 0.8778\n",
            "val Loss: 0.1138 Acc: 0.9659\n",
            "\n",
            "Epoch 5/24\n",
            "----------\n",
            "train Loss: 0.3312 Acc: 0.8769\n",
            "val Loss: 0.2045 Acc: 0.9470\n",
            "\n",
            "Epoch 6/24\n",
            "----------\n",
            "train Loss: 0.2874 Acc: 0.8835\n",
            "val Loss: 0.1919 Acc: 0.9545\n",
            "\n",
            "Epoch 7/24\n",
            "----------\n",
            "train Loss: 0.2574 Acc: 0.8949\n",
            "val Loss: 0.1542 Acc: 0.9621\n",
            "\n",
            "Epoch 8/24\n",
            "----------\n",
            "train Loss: 0.2435 Acc: 0.9119\n",
            "val Loss: 0.1301 Acc: 0.9659\n",
            "\n",
            "Epoch 9/24\n",
            "----------\n",
            "train Loss: 0.2530 Acc: 0.8977\n",
            "val Loss: 0.1491 Acc: 0.9583\n",
            "\n",
            "Epoch 10/24\n",
            "----------\n",
            "train Loss: 0.2525 Acc: 0.8968\n",
            "val Loss: 0.1524 Acc: 0.9583\n",
            "\n",
            "Epoch 11/24\n",
            "----------\n",
            "train Loss: 0.2277 Acc: 0.8920\n",
            "val Loss: 0.1471 Acc: 0.9621\n",
            "\n",
            "Epoch 12/24\n",
            "----------\n",
            "train Loss: 0.2304 Acc: 0.8996\n",
            "val Loss: 0.1309 Acc: 0.9697\n",
            "\n",
            "Epoch 13/24\n",
            "----------\n",
            "train Loss: 0.2337 Acc: 0.8977\n",
            "val Loss: 0.1280 Acc: 0.9621\n",
            "\n",
            "Epoch 14/24\n",
            "----------\n",
            "train Loss: 0.2335 Acc: 0.9062\n",
            "val Loss: 0.1403 Acc: 0.9659\n",
            "\n",
            "Epoch 15/24\n",
            "----------\n",
            "train Loss: 0.2351 Acc: 0.9062\n",
            "val Loss: 0.1357 Acc: 0.9659\n",
            "\n",
            "Epoch 16/24\n",
            "----------\n",
            "train Loss: 0.2268 Acc: 0.8949\n",
            "val Loss: 0.1265 Acc: 0.9659\n",
            "\n",
            "Epoch 17/24\n",
            "----------\n",
            "train Loss: 0.2264 Acc: 0.9138\n",
            "val Loss: 0.1477 Acc: 0.9583\n",
            "\n",
            "Epoch 18/24\n",
            "----------\n",
            "train Loss: 0.2318 Acc: 0.9006\n",
            "val Loss: 0.1481 Acc: 0.9659\n",
            "\n",
            "Epoch 19/24\n",
            "----------\n",
            "train Loss: 0.2423 Acc: 0.8977\n",
            "val Loss: 0.1326 Acc: 0.9659\n",
            "\n",
            "Epoch 20/24\n",
            "----------\n",
            "train Loss: 0.1984 Acc: 0.9195\n",
            "val Loss: 0.1254 Acc: 0.9659\n",
            "\n",
            "Epoch 21/24\n",
            "----------\n",
            "train Loss: 0.2219 Acc: 0.9044\n",
            "val Loss: 0.1349 Acc: 0.9659\n",
            "\n",
            "Epoch 22/24\n",
            "----------\n",
            "train Loss: 0.2174 Acc: 0.9138\n",
            "val Loss: 0.1444 Acc: 0.9659\n",
            "\n",
            "Epoch 23/24\n",
            "----------\n",
            "train Loss: 0.2349 Acc: 0.9053\n",
            "val Loss: 0.1492 Acc: 0.9621\n",
            "\n",
            "Epoch 24/24\n",
            "----------\n",
            "train Loss: 0.2130 Acc: 0.9176\n",
            "val Loss: 0.1303 Acc: 0.9659\n",
            "\n",
            "Training complete in 118m 15s\n",
            "Best val Acc: 0.969697\n"
          ],
          "name": "stdout"
        }
      ]
    },
    {
      "cell_type": "code",
      "metadata": {
        "colab": {
          "base_uri": "https://localhost:8080/",
          "height": 636
        },
        "id": "ZnHaLYSr7wnI",
        "outputId": "ed504039-0883-4199-dcc1-9819ce9d3619"
      },
      "source": [
        "visualize_model(model_ft)"
      ],
      "execution_count": null,
      "outputs": [
        {
          "output_type": "stream",
          "text": [
            "/usr/local/lib/python3.7/dist-packages/torch/utils/data/dataloader.py:481: UserWarning: This DataLoader will create 4 worker processes in total. Our suggested max number of worker in current system is 2, which is smaller than what this DataLoader is going to create. Please be aware that excessive worker creation might get DataLoader running slow or even freeze, lower the worker number to avoid potential slowness/freeze if necessary.\n",
            "  cpuset_checked))\n"
          ],
          "name": "stderr"
        },
        {
          "output_type": "display_data",
          "data": {
            "image/png": "[encoded data removed]",
            "text/plain": [
              "<Figure size 432x288 with 1 Axes>"
            ]
          },
          "metadata": {
            "tags": [],
            "needs_background": "light"
          }
        },
        {
          "output_type": "display_data",
          "data": {
            "image/png": "[encoded data removed]",
            "text/plain": [
              "<Figure size 432x288 with 1 Axes>"
            ]
          },
          "metadata": {
            "tags": [],
            "needs_background": "light"
          }
        },
        {
          "output_type": "display_data",
          "data": {
            "image/png": "[encoded data removed]",
            "text/plain": [
              "<Figure size 432x288 with 1 Axes>"
            ]
          },
          "metadata": {
            "tags": [],
            "needs_background": "light"
          }
        },
        {
          "output_type": "display_data",
          "data": {
            "image/png": "[encoded data removed]",
            "text/plain": [
              "<Figure size 432x288 with 1 Axes>"
            ]
          },
          "metadata": {
            "tags": [],
            "needs_background": "light"
          }
        },
        {
          "output_type": "display_data",
          "data": {
            "image/png": "[encoded data removed]",
            "text/plain": [
              "<Figure size 432x288 with 1 Axes>"
            ]
          },
          "metadata": {
            "tags": [],
            "needs_background": "light"
          }
        },
        {
          "output_type": "display_data",
          "data": {
            "image/png": "[encoded data removed]",
            "text/plain": [
              "<Figure size 432x288 with 1 Axes>"
            ]
          },
          "metadata": {
            "tags": [],
            "needs_background": "light"
          }
        }
      ]
    },
    {
      "cell_type": "code",
      "metadata": {
        "colab": {
          "base_uri": "https://localhost:8080/",
          "height": 298
        },
        "id": "qSA9Qkc3t3ch",
        "outputId": "13ba8b2a-df55-4838-af6c-e7213c87ff85"
      },
      "source": [
        "import matplotlib.pyplot as plt\n",
        "plt.plot(range(25), stat['losses']['train'], label='train')\n",
        "plt.plot(range(25), stat['losses']['val'], label='val')\n",
        "plt.title('Losses')"
      ],
      "execution_count": null,
      "outputs": [
        {
          "output_type": "execute_result",
          "data": {
            "text/plain": [
              "Text(0.5, 1.0, 'Losses')"
            ]
          },
          "metadata": {
            "tags": []
          },
          "execution_count": 58
        },
        {
          "output_type": "display_data",
          "data": {
            "image/png": "[encoded data removed]",
            "text/plain": [
              "<Figure size 432x288 with 1 Axes>"
            ]
          },
          "metadata": {
            "tags": [],
            "needs_background": "light"
          }
        }
      ]
    },
    {
      "cell_type": "code",
      "metadata": {
        "colab": {
          "base_uri": "https://localhost:8080/",
          "height": 298
        },
        "id": "sN1Nnkz05ad6",
        "outputId": "4770ecfe-ee33-4284-8581-6e72f04fe2ec"
      },
      "source": [
        "plt.plot(range(25), stat['accuracies']['train'], label='train')\n",
        "plt.plot(range(25), stat['accuracies']['val'], label='val')\n",
        "plt.title('Accuracy')"
      ],
      "execution_count": null,
      "outputs": [
        {
          "output_type": "execute_result",
          "data": {
            "text/plain": [
              "Text(0.5, 1.0, 'Accuracy')"
            ]
          },
          "metadata": {
            "tags": []
          },
          "execution_count": 85
        },
        {
          "output_type": "display_data",
          "data": {
            "image/png": "[encoded data removed]",
            "text/plain": [
              "<Figure size 432x288 with 1 Axes>"
            ]
          },
          "metadata": {
            "tags": [],
            "needs_background": "light"
          }
        }
      ]
    },
    {
      "cell_type": "code",
      "metadata": {
        "id": "N6TcnNEVvQ8x"
      },
      "source": [
        "torch.save(model_ft, 'bear_model')"
      ],
      "execution_count": null,
      "outputs": []
    },
    {
      "cell_type": "code",
      "metadata": {
        "id": "32O3xlAa1z3D"
      },
      "source": [
        "import json\n",
        "json.dump(stat, open('resnet_stat.json', 'w'))"
      ],
      "execution_count": null,
      "outputs": []
    },
    {
      "cell_type": "code",
      "metadata": {
        "id": "mRnYdFXe6Bxg"
      },
      "source": [
        "stat['accuracies']['train'] = list(map(lambda x: x.item(), stat['accuracies']['train']))\n",
        "stat['accuracies']['val'] = list(map(lambda x: x.item(), stat['accuracies']['val']))"
      ],
      "execution_count": null,
      "outputs": []
    },
    {
      "cell_type": "code",
      "metadata": {
        "colab": {
          "base_uri": "https://localhost:8080/"
        },
        "id": "FbtBATcX6IW_",
        "outputId": "785b054e-f764-491e-cc14-adb6da75a391"
      },
      "source": [
        "from sklearn.metrics import recall_score, accuracy_score, precision_score\n",
        "recall_score(list(map(lambda x: x.item(), y_true)), list(map(lambda x: x.item(), y_pred)))"
      ],
      "execution_count": null,
      "outputs": [
        {
          "output_type": "execute_result",
          "data": {
            "text/plain": [
              "0.9539375928677564"
            ]
          },
          "metadata": {
            "tags": []
          },
          "execution_count": 84
        }
      ]
    },
    {
      "cell_type": "code",
      "metadata": {
        "colab": {
          "base_uri": "https://localhost:8080/"
        },
        "id": "NRR81sAp6xTW",
        "outputId": "e8807a1e-8c70-45a5-97c5-36ea53685470"
      },
      "source": [
        "len(y_true[-264:])"
      ],
      "execution_count": null,
      "outputs": [
        {
          "output_type": "execute_result",
          "data": {
            "text/plain": [
              "264"
            ]
          },
          "metadata": {
            "tags": []
          },
          "execution_count": 81
        }
      ]
    },
    {
      "cell_type": "code",
      "metadata": {
        "id": "Q7E1KP0e6ybj"
      },
      "source": [
        "model = torch.load('bear_class_model')"
      ],
      "execution_count": null,
      "outputs": []
    },
    {
      "cell_type": "code",
      "metadata": {
        "colab": {
          "base_uri": "https://localhost:8080/",
          "height": 294
        },
        "id": "969jd-tnk7L1",
        "outputId": "f3d85aac-93d5-4dc0-8afe-81ea7a6a11ee"
      },
      "source": [
        "for inputs, labels in dataloaders['val']:\n",
        "  inputs = inputs.to(device)\n",
        "  labels = labels.to(device)\n",
        "  with torch.set_grad_enabled(False):\n",
        "    outputs = model(inputs)\n",
        "    _, preds = torch.max(outputs, 1)"
      ],
      "execution_count": null,
      "outputs": [
        {
          "output_type": "stream",
          "text": [
            "/usr/local/lib/python3.7/dist-packages/torch/utils/data/dataloader.py:481: UserWarning: This DataLoader will create 4 worker processes in total. Our suggested max number of worker in current system is 2, which is smaller than what this DataLoader is going to create. Please be aware that excessive worker creation might get DataLoader running slow or even freeze, lower the worker number to avoid potential slowness/freeze if necessary.\n",
            "  cpuset_checked))\n",
            "/usr/local/lib/python3.7/dist-packages/torch/nn/functional.py:718: UserWarning: Named tensors and all their associated APIs are an experimental feature and subject to change. Please do not use them for anything important until they are released as stable. (Triggered internally at  /pytorch/c10/core/TensorImpl.h:1156.)\n",
            "  return torch.max_pool2d(input, kernel_size, stride, padding, dilation, ceil_mode)\n"
          ],
          "name": "stderr"
        },
        {
          "output_type": "error",
          "ename": "NameError",
          "evalue": "ignored",
          "traceback": [
            "\u001b[0;31m---------------------------------------------------------------------------\u001b[0m",
            "\u001b[0;31mNameError\u001b[0m                                 Traceback (most recent call last)",
            "\u001b[0;32m<ipython-input-9-29e46cf8617a>\u001b[0m in \u001b[0;36m<module>\u001b[0;34m()\u001b[0m\n\u001b[1;32m      5\u001b[0m     \u001b[0moutputs\u001b[0m \u001b[0;34m=\u001b[0m \u001b[0mmodel\u001b[0m\u001b[0;34m(\u001b[0m\u001b[0minputs\u001b[0m\u001b[0;34m)\u001b[0m\u001b[0;34m\u001b[0m\u001b[0;34m\u001b[0m\u001b[0m\n\u001b[1;32m      6\u001b[0m     \u001b[0m_\u001b[0m\u001b[0;34m,\u001b[0m \u001b[0mpreds\u001b[0m \u001b[0;34m=\u001b[0m \u001b[0mtorch\u001b[0m\u001b[0;34m.\u001b[0m\u001b[0mmax\u001b[0m\u001b[0;34m(\u001b[0m\u001b[0moutputs\u001b[0m\u001b[0;34m,\u001b[0m \u001b[0;36m1\u001b[0m\u001b[0;34m)\u001b[0m\u001b[0;34m\u001b[0m\u001b[0;34m\u001b[0m\u001b[0m\n\u001b[0;32m----> 7\u001b[0;31m     \u001b[0mloss\u001b[0m \u001b[0;34m=\u001b[0m \u001b[0mcriterion\u001b[0m\u001b[0;34m(\u001b[0m\u001b[0moutputs\u001b[0m\u001b[0;34m,\u001b[0m \u001b[0mlabels\u001b[0m\u001b[0;34m)\u001b[0m\u001b[0;34m\u001b[0m\u001b[0;34m\u001b[0m\u001b[0m\n\u001b[0m",
            "\u001b[0;31mNameError\u001b[0m: name 'criterion' is not defined"
          ]
        }
      ]
    },
    {
      "cell_type": "code",
      "metadata": {
        "colab": {
          "base_uri": "https://localhost:8080/"
        },
        "id": "jxqzqQhulZa3",
        "outputId": "f9d282f7-dacb-4d43-f37e-57b16a1012e8"
      },
      "source": [
        "preds"
      ],
      "execution_count": null,
      "outputs": [
        {
          "output_type": "execute_result",
          "data": {
            "text/plain": [
              "tensor([1, 0], device='cuda:0')"
            ]
          },
          "metadata": {
            "tags": []
          },
          "execution_count": 10
        }
      ]
    },
    {
      "cell_type": "code",
      "metadata": {
        "id": "d4qtYcSHlawr"
      },
      "source": [
        ""
      ],
      "execution_count": null,
      "outputs": []
    }
  ]
}